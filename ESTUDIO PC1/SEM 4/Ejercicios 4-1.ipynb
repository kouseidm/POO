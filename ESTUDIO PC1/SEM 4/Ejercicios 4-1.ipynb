{
 "cells": [
  {
   "cell_type": "markdown",
   "id": "c40105ab",
   "metadata": {},
   "source": [
    "EJERCICIO 2"
   ]
  },
  {
   "cell_type": "code",
   "execution_count": null,
   "id": "81421f8e",
   "metadata": {},
   "outputs": [],
   "source": []
  }
 ],
 "metadata": {
  "language_info": {
   "name": "python"
  }
 },
 "nbformat": 4,
 "nbformat_minor": 5
}
