{
 "cells": [
  {
   "cell_type": "markdown",
   "id": "c75db770",
   "metadata": {},
   "source": [
    "EJERCICIO 1"
   ]
  },
  {
   "cell_type": "code",
   "execution_count": null,
   "id": "c00f4e6f",
   "metadata": {},
   "outputs": [],
   "source": [
    "\n",
    "a = []\n",
    "for i in range(11):\n",
    "    a.append(i)\n",
    "print(a)\n",
    "print(a[::-1])"
   ]
  },
  {
   "cell_type": "markdown",
   "id": "b7512994",
   "metadata": {},
   "source": [
    "EJERCICIO 2"
   ]
  },
  {
   "cell_type": "code",
   "execution_count": 4,
   "id": "53f3342b",
   "metadata": {},
   "outputs": [
    {
     "name": "stdout",
     "output_type": "stream",
     "text": [
      "Cantidad de valores en una lista 3\n",
      "Ultimo elemento de la lista: 2\n",
      "Lista invertida: [2, 145, 1]\n"
     ]
    }
   ],
   "source": [
    "lista = []\n",
    "while True:\n",
    "    valores = int(input(\"Introdusca una lista de enteros positivos.\"))\n",
    "    if valores > 0:\n",
    "            lista.append(valores)\n",
    "    elif valores <= 0:\n",
    "        break\n",
    "\n",
    "print (f\"Cantidad de valores en una lista {len(lista)}\")\n",
    "print (f\"Ultimo elemento de la lista: {lista[-1]}\")\n",
    "print (f\"Lista invertida: {lista[::-1]}\")"
   ]
  },
  {
   "cell_type": "markdown",
   "id": "2ac2c7b7",
   "metadata": {},
   "source": [
    "EJERCICIO 3"
   ]
  },
  {
   "cell_type": "code",
   "execution_count": 15,
   "id": "c22a3696",
   "metadata": {},
   "outputs": [
    {
     "name": "stdout",
     "output_type": "stream",
     "text": [
      "Lista de numeros en rango de (1,100)\n",
      "[77, 49, 15, 5, 31, 58, 3, 51, 68, 54, 63, 8, 63, 30, 49, 39, 75, 19, 32, 52, 46, 3, 51, 50, 94, 38, 25, 5, 28, 79, 74, 88, 54, 18, 80, 9, 7, 94, 70, 3, 55, 99, 94, 41, 31, 80, 26, 59, 42, 91]\n",
      "[154, 98, 30, 10, 62, 116, 6, 102, 136, 108, 126, 16, 126, 60, 98, 78, 150, 38, 64, 104, 92, 6, 102, 100, 188, 76, 50, 10, 56, 158, 148, 176, 108, 36, 160, 18, 14, 188, 140, 6, 110, 198, 188, 82, 62, 160, 52, 118, 84, 182]\n",
      "24\n"
     ]
    }
   ],
   "source": [
    "from random import randint\n",
    "lista= []\n",
    "lista_doble = []\n",
    "for i in range(50):\n",
    "    num = randint(1,101)\n",
    "    lista.append(num)\n",
    "    lista_doble.append(num*2)\n",
    "print(\"Lista de numeros en rango de (1,100)\")    \n",
    "print(lista)\n",
    "print(lista_doble)\n",
    "contador=0\n",
    "for i in lista:\n",
    "    if i > 50:\n",
    "        contador+= 1\n",
    "\n",
    "print(contador)\n",
    "\n"
   ]
  },
  {
   "cell_type": "markdown",
   "id": "670bc02b",
   "metadata": {},
   "source": [
    "EJERCICIO 4"
   ]
  },
  {
   "cell_type": "code",
   "execution_count": 36,
   "id": "a4e56cb6",
   "metadata": {},
   "outputs": [
    {
     "name": "stdout",
     "output_type": "stream",
     "text": [
      "Lista -> [68, 58]\n",
      "Promedio de la lista: 63.00\n",
      "\n",
      "Numero pares: 2\n",
      "Numero impares: 0\n"
     ]
    }
   ],
   "source": [
    "from random import randint\n",
    "lista=[]\n",
    "for i in range(2):\n",
    "    num = randint(1,101)\n",
    "    lista.append(num)\n",
    "\n",
    "print(f\"Lista -> {lista}\")\n",
    "promedio = sum(lista) / len(lista)\n",
    "print(f\"Promedio de la lista: {promedio:.2f}\")\n",
    "\n",
    "# num pares\n",
    "cont_par = 0\n",
    "cont_impar = 0\n",
    "for i in lista:\n",
    "    if i % 2 == 0:\n",
    "        cont_par += 1\n",
    "    else:\n",
    "        cont_impar += 1\n",
    "        \n",
    "print ()\n",
    "print (f\"Numero pares: {cont_par}\")\n",
    "print (f\"Numero impares: {cont_impar}\")"
   ]
  },
  {
   "cell_type": "markdown",
   "id": "80c517e5",
   "metadata": {},
   "source": [
    "EJERCICIO 5"
   ]
  },
  {
   "cell_type": "code",
   "execution_count": null,
   "id": "23314d8c",
   "metadata": {},
   "outputs": [
    {
     "name": "stdout",
     "output_type": "stream",
     "text": [
      "Nro.  Datos    Horas   Minutos   Segundos\n",
      "-----------------------------------------\n",
      " 1   85492      23       44        52\n",
      " 2  123568      34       19        28\n",
      " 3  2255663     626       34        23\n"
     ]
    }
   ],
   "source": [
    "\n",
    "lista = []\n",
    "while True:\n",
    "    try:\n",
    "        dato = int(input(\"Ingresar segundos a convertir: \"))\n",
    "        if dato > 0:\n",
    "            horas = dato // 3600\n",
    "            aux1 = dato % 3600\n",
    "            minutos = aux1 // 60\n",
    "            seg = aux1 % 60\n",
    "            \n",
    "            lista.append([dato,horas,minutos,seg])\n",
    "        else:\n",
    "            print(\"El valor debe ser mayor a 0\") \n",
    "            \n",
    "        continuar = str(input(\"Desea ingresar mas datos (si, no)\").upper())\n",
    "        if continuar == \"NO\":\n",
    "            break\n",
    "    except ValueError:\n",
    "        print (\"Ingresar valores correctos\")\n",
    "        \n",
    "print(\"Nro.  Datos    Horas   Minutos   Segundos\")\n",
    "print(\"-----------------------------------------\")\n",
    "for i, (x,y,z,k) in enumerate(lista, start=1):\n",
    "    print(f\"{i:>2}  {x:6}  {y:6}  {z:7} {k:9}\")\n"
   ]
  },
  {
   "cell_type": "markdown",
   "id": "7030632c",
   "metadata": {},
   "source": [
    "EJERCICIO 6"
   ]
  },
  {
   "cell_type": "code",
   "execution_count": null,
   "id": "646dae38",
   "metadata": {},
   "outputs": [
    {
     "name": "stdout",
     "output_type": "stream",
     "text": [
      "--- MENU ---\n",
      "------------\n",
      "[1] Pulgadas\n",
      "[2] Yardas\n",
      "[3] Millas\n",
      "[4] Milímetros\n",
      "[5] Centímetros\n",
      "[6] Metros\n",
      "[7] Resumen\n",
      "[8] Salir\n",
      "-----------\n",
      "Ingresar un valor correcto\n",
      "Conversion de medidas de pie a\n",
      "Nro   Pies   Convertir a   Convertido\n",
      "1  10.0PULGADAS    120.0\n"
     ]
    }
   ],
   "source": [
    "def menu():\n",
    "    print(\"--- MENU ---\")\n",
    "    print(\"------------\")\n",
    "    print(\"[1] Pulgadas\")\n",
    "    print(\"[2] Yardas\")\n",
    "    print(\"[3] Millas\") \n",
    "    print(\"[4] Milímetros\")\n",
    "    print(\"[5] Centímetros\") \n",
    "    print(\"[6] Metros\")\n",
    "    print(\"[7] Resumen\")\n",
    "    print(\"[8] Salir\")\n",
    "    print(\"-----------\")\n",
    "\n",
    "menu()\n",
    "lista=[]\n",
    "while True:\n",
    "    try:\n",
    "        opcion = int (input(\"Ingresar opcion: \"))\n",
    "        if opcion == 8:\n",
    "            break\n",
    "        elif opcion == 7:\n",
    "            print (\"Conversion de medidas de pie a\")\n",
    "            print (f\"Nro{\" \"*3}Pies{\" \"*3}Convertir a{\" \"*3}Convertido\")\n",
    "            for i, (x,y,z) in enumerate(lista,start=1):\n",
    "                print (f\"{i:<3}{x:>6}{y:>12}{z:>15}\")  \n",
    "        elif opcion >= 1 and opcion < 7:\n",
    "            dato = float(input(\"ingresar dato a convertir: \")) \n",
    "            if opcion == 1:\n",
    "                conver = \"PULGADAS\"\n",
    "                resultado = dato * 12\n",
    "            elif opcion == 2:\n",
    "                conver = \"YARDAS\"\n",
    "                resultado = dato * 0.33\n",
    "            elif opcion == 3:\n",
    "                conver = \"MILLAS\"\n",
    "                resultado = dato * 0.0002\n",
    "            elif opcion == 4:\n",
    "                conver = \"MILIMETROS\"\n",
    "                resultado = dato * 304.8\n",
    "            elif opcion == 5:\n",
    "                conver = \"CENTIMETROS\"\n",
    "                resultado = dato * 30.48\n",
    "            elif opcion == 6:\n",
    "                conver = \"METROS\"\n",
    "                resultado = dato * 0.3046\n",
    "            lista.append([dato,conver,round(resultado,2)])\n",
    "    except ValueError:\n",
    "        print (\"Ingresar un valor correcto\")"
   ]
  }
 ],
 "metadata": {
  "kernelspec": {
   "display_name": "Python 3",
   "language": "python",
   "name": "python3"
  },
  "language_info": {
   "codemirror_mode": {
    "name": "ipython",
    "version": 3
   },
   "file_extension": ".py",
   "mimetype": "text/x-python",
   "name": "python",
   "nbconvert_exporter": "python",
   "pygments_lexer": "ipython3",
   "version": "3.12.10"
  }
 },
 "nbformat": 4,
 "nbformat_minor": 5
}
