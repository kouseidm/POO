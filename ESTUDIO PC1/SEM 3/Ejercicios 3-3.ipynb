{
 "cells": [
  {
   "cell_type": "markdown",
   "id": "87927601",
   "metadata": {},
   "source": [
    "EJERCICIO 1"
   ]
  },
  {
   "cell_type": "code",
   "execution_count": null,
   "id": "572aa8c9",
   "metadata": {},
   "outputs": [],
   "source": [
    "lista = []\n",
    "cont_i = 0\n",
    "cont_p = 0\n",
    "while True:\n",
    "    try:\n",
    "        valor =  int(input(\"Ingresar numero: \"))\n",
    "        if valor != 0:\n",
    "            if valor > 0:\n",
    "                cont_p+= 1\n",
    "            else:\n",
    "                cont_i+= 1\n",
    "            lista.append(valor)\n",
    "        else:\n",
    "            break\n",
    "    except ValueError:\n",
    "        print(\"Valor ingresado incorrecto.\")\n",
    "print(\"Numero de valores: \")\n",
    "print(len(lista))\n",
    "print()\n",
    "print(\"Numero mayor: \")\n",
    "print(max(lista))\n",
    "print()\n",
    "print(\"Numero minimo: \")\n",
    "print(min(lista))\n",
    "print()\n",
    "print(\"Contador de pares: \")\n",
    "print(cont_p)\n",
    "print()\n",
    "print(\"Contador de impares: \")\n",
    "print(cont_i)\n",
    "print()\n",
    "promedio = sum(lista) / len(lista)\n",
    "print(\"Promedio de valores: \")\n",
    "print(promedio)\n",
    "print()"
   ]
  },
  {
   "cell_type": "markdown",
   "id": "5d4d743d",
   "metadata": {},
   "source": [
    "EJERCICIO 2"
   ]
  },
  {
   "cell_type": "code",
   "execution_count": null,
   "id": "2fd39ab8",
   "metadata": {},
   "outputs": [],
   "source": [
    "while True:\n",
    "    try:\n",
    "        n = int(input(\"Ingresar N: \"))\n",
    "        if n > 0 :\n",
    "            break\n",
    "        else:\n",
    "            print(\"Ingresar num positivo\")\n",
    "    except ValueError:\n",
    "        print(\"Ingresar valor valido\")\n",
    "        \n",
    "suma = 0\n",
    "signo = 1\n",
    "for i in range(n):\n",
    "    denominador = 2**i\n",
    "    valor = signo * (1/denominador)\n",
    "    suma += valor\n",
    "    signo *= -1\n",
    "    \n",
    "print(f\"La suma siguiendo el formato es: {suma}\")"
   ]
  },
  {
   "cell_type": "markdown",
   "id": "5bb0c5ed",
   "metadata": {},
   "source": [
    "EJERCICIO 3"
   ]
  },
  {
   "cell_type": "code",
   "execution_count": null,
   "id": "3f417ca4",
   "metadata": {},
   "outputs": [
    {
     "name": "stdout",
     "output_type": "stream",
     "text": [
      "123123123\n",
      "321321321\n",
      "Ingrese un valor valido\n",
      "123123123\n",
      "321321321\n"
     ]
    }
   ],
   "source": [
    "while True:\n",
    "    try:\n",
    "        num = int(input(\"Ingresar N: \"))\n",
    "        if num > 0:\n",
    "            num = str(num)\n",
    "        else:\n",
    "            print(\"El valor debe ser entero positivo\")\n",
    "    except ValueError:\n",
    "        print(\"Ingrese un valor valido\")\n",
    "        \n",
    "    print (num)\n",
    "    print (num[::-1])"
   ]
  },
  {
   "cell_type": "markdown",
   "id": "df5f7dcc",
   "metadata": {},
   "source": [
    "EJERCICIO 4"
   ]
  },
  {
   "cell_type": "code",
   "execution_count": null,
   "id": "fc3d3426",
   "metadata": {},
   "outputs": [],
   "source": [
    "while True:\n",
    "    try:\n",
    "        n = int(input(\"Ingresar N: \"))\n",
    "        if n > 0 and n <= 10:\n",
    "            break\n",
    "        else:\n",
    "            print(\"N debe ser entre 0 y 10\")\n",
    "    except ValueError:\n",
    "        print (\"Ingresar un valor valido\")\n",
    "    \n",
    "for i in range(1,n+1):\n",
    "    for j in range(1, i+1):\n",
    "        print(j, end=\" \")\n",
    "    print()\n",
    "    \n",
    "for i in range(n,0,-1):\n",
    "    for j in range(i):\n",
    "        print (j+1,end=\" \")\n",
    "    print()"
   ]
  },
  {
   "cell_type": "markdown",
   "id": "60eb5b1e",
   "metadata": {},
   "source": [
    "EJERCICIO 5"
   ]
  },
  {
   "cell_type": "code",
   "execution_count": null,
   "id": "cd322693",
   "metadata": {},
   "outputs": [],
   "source": [
    "while True:\n",
    "    try:\n",
    "        n = int(input(\"Ingresar N: \"))\n",
    "        if n > 0 and n <= 10:\n",
    "            break\n",
    "        else:\n",
    "            print(\"Valor debe ser entre 1 y 10\")\n",
    "    except ValueError:\n",
    "        print(\"Valor invalido\")\n",
    "carac = input(\"Ingresar caracter: \")\n",
    "\n",
    "for i in range (1, n+1):\n",
    "    for j in range (1, i+1):\n",
    "        print (carac, end=\" \")\n",
    "    print ()\n",
    "\n",
    "print()\n",
    "for i in range (n,0,-1):\n",
    "    for j in range (i):\n",
    "        print(carac, end=\" \")\n",
    "    print()\n",
    "    \n",
    "print()\n",
    "for i in range(n):\n",
    "    for j in range(n):\n",
    "        print (carac, end=\" \")\n",
    "    print()\n",
    "    \n",
    "print()\n",
    "for i in range(1, n+1):\n",
    "    for j in range(i-1):\n",
    "        print(\" \",end=\" \")\n",
    "    for k in range(n-i):\n",
    "        print(carac, end=\" \")\n",
    "    print()\n"
   ]
  },
  {
   "cell_type": "markdown",
   "id": "e0ff822b",
   "metadata": {},
   "source": [
    "EJERCICIO 6"
   ]
  },
  {
   "cell_type": "code",
   "execution_count": null,
   "id": "d9896fa8",
   "metadata": {},
   "outputs": [],
   "source": [
    "while True:\n",
    "    try:\n",
    "        n = int(input(\"Ingresar N: \"))\n",
    "        if n > 0 and n <= 10:\n",
    "            break\n",
    "        else:\n",
    "            print(\"Valor debe ser entre 1 y 10\")\n",
    "    except ValueError:\n",
    "        print(\"Valor invalido\")\n",
    "carac = input(\"Ingresar caracter: \")\n",
    "\n",
    "for i in range(n):\n",
    "    if i == 0 or i == n-1:\n",
    "        print(\"* \"*n)\n",
    "    else:\n",
    "        print(\"* \" + \"  \" * (n-2) + \"*\")"
   ]
  }
 ],
 "metadata": {
  "kernelspec": {
   "display_name": "Python 3",
   "language": "python",
   "name": "python3"
  },
  "language_info": {
   "codemirror_mode": {
    "name": "ipython",
    "version": 3
   },
   "file_extension": ".py",
   "mimetype": "text/x-python",
   "name": "python",
   "nbconvert_exporter": "python",
   "pygments_lexer": "ipython3",
   "version": "3.12.10"
  }
 },
 "nbformat": 4,
 "nbformat_minor": 5
}
