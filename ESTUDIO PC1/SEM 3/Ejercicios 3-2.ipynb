{
 "cells": [
  {
   "cell_type": "markdown",
   "id": "83446bb4",
   "metadata": {},
   "source": [
    "EJERCICIO 7\n"
   ]
  },
  {
   "cell_type": "code",
   "execution_count": null,
   "id": "fcef77d8",
   "metadata": {},
   "outputs": [],
   "source": [
    "datos ={}\n",
    "lista1 = []\n",
    "lista2 = []\n",
    "while True:\n",
    "    try:\n",
    "        dni = int (input(\"Ingrese el dni: \"))\n",
    "        if len(dni) == 8:\n",
    "            break\n",
    "        else:\n",
    "            print (\"El dni debe tener 8 caracteres\")\n",
    "    except ValueError:\n",
    "        print (\"Ingresar un valor correcto\")\n",
    "        \n",
    "        "
   ]
  },
  {
   "cell_type": "markdown",
   "id": "ab73fe9e",
   "metadata": {},
   "source": [
    "EJERCICIO 8"
   ]
  },
  {
   "cell_type": "code",
   "execution_count": null,
   "id": "b43e595b",
   "metadata": {},
   "outputs": [],
   "source": [
    "vocales = ['A', 'E', 'I', 'O','U','a', 'e', 'i', 'o','u']\n",
    "for i in range(5):\n",
    "    while True:\n",
    "        try:\n",
    "            dato = str(input(\"Ingrese vocal: \"))\n",
    "            if dato.isalpha() == True:\n",
    "                if dato in vocales:\n",
    "                    print (f\"El ingreso {i+1} fue la letra {dato}\")\n",
    "                    break\n",
    "                else:\n",
    "                    print (f\"El ingreso {i+1} no fue correcto\")\n",
    "                    break\n",
    "            else:\n",
    "                print(\"Ingrese una letra\")\n",
    "        except ValueError:\n",
    "            print(\"Ingrese una valor correcto\")"
   ]
  },
  {
   "cell_type": "markdown",
   "id": "29fa5971",
   "metadata": {},
   "source": [
    "EJERCICIO 9 "
   ]
  },
  {
   "cell_type": "code",
   "execution_count": 1,
   "id": "5eeb4c78",
   "metadata": {},
   "outputs": [
    {
     "name": "stdout",
     "output_type": "stream",
     "text": [
      "----------------------------------------\n",
      "Lista de elementos\n",
      "[90, 56, 94, 58, 99, 23, 30, 91, 43, 66]\n",
      "----------------------------------------\n",
      "Lista de elementos con sus repetidas\n",
      "----------------------------------------\n",
      "[90 ; 1] [56 ; 1] [94 ; 1] [58 ; 1] [99 ; 1] [23 ; 1] [30 ; 1] [91 ; 1] [43 ; 1] [66 ; 1] "
     ]
    }
   ],
   "source": [
    "from random import randint\n",
    "list = []\n",
    "\n",
    "for i in range(10):\n",
    "    num = randint(1,100)\n",
    "    list.append(num)\n",
    "\n",
    "print (\"-\"*40)\n",
    "print (\"Lista de elementos\")\n",
    "print (list)\n",
    "\n",
    "print (\"-\"*40)\n",
    "print (\"Lista de elementos con sus repetidas\")\n",
    "print (\"-\"*40)\n",
    "for i in list:\n",
    "    repetidas = list.count(i)\n",
    "    print (f\"[{i} ; {repetidas}]\", end=\" \")\n",
    "\n",
    "\n"
   ]
  }
 ],
 "metadata": {
  "kernelspec": {
   "display_name": "Python 3",
   "language": "python",
   "name": "python3"
  },
  "language_info": {
   "codemirror_mode": {
    "name": "ipython",
    "version": 3
   },
   "file_extension": ".py",
   "mimetype": "text/x-python",
   "name": "python",
   "nbconvert_exporter": "python",
   "pygments_lexer": "ipython3",
   "version": "3.12.10"
  }
 },
 "nbformat": 4,
 "nbformat_minor": 5
}
