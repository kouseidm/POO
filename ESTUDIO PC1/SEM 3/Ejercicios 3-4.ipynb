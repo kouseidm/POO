{
 "cells": [
  {
   "cell_type": "markdown",
   "id": "0b808afb",
   "metadata": {},
   "source": [
    "EJERCICIO 1"
   ]
  },
  {
   "cell_type": "code",
   "execution_count": null,
   "id": "4bafe6e2",
   "metadata": {},
   "outputs": [],
   "source": [
    "from random import randint\n",
    "lista = []\n",
    "while True:\n",
    "    try:\n",
    "        cant = int (input(\"Ingresar la cantidad de valores:\"))\n",
    "        if cant >0 and cant <= 50:\n",
    "            break\n",
    "        else:\n",
    "            print(\"Ingresar valor entre 1 y 50\")\n",
    "    except ValueError:\n",
    "        print (\"Valor incorrecto\")\n",
    "        \n",
    "for i in range(cant):\n",
    "    lista.append(randint(1,100))\n",
    "print(f\"Lista: {lista}\")\n",
    "for i in range(cant-1):\n",
    "    if lista[i] < lista[i+1]:\n",
    "        print(lista[i], end=\" \")\n",
    "    else:\n",
    "        print(lista[i])\n",
    "print(lista[cant-1])"
   ]
  },
  {
   "cell_type": "markdown",
   "id": "b5459061",
   "metadata": {},
   "source": [
    "EJERCICIO 2"
   ]
  },
  {
   "cell_type": "code",
   "execution_count": null,
   "id": "aa061b84",
   "metadata": {},
   "outputs": [],
   "source": [
    "while True:\n",
    "    try:\n",
    "        n = int(input(\"Ingresar valor de n: \"))\n",
    "        if n > 0 and n < 11:\n",
    "            break\n",
    "        else:\n",
    "            print(\"El valor debe ser entre 1 y 10\")\n",
    "    except ValueError:\n",
    "        print(\"Valor incorrecto.\")\n",
    "        \n",
    "for i in range(1,n+1):\n",
    "    print(\"  \"*(n-i), end=\"\")\n",
    "    for j in range(1,i*2):\n",
    "        print(j , end=\" \")\n",
    "    print()\n",
    "for i in range(n-1,0,-1):\n",
    "    print(\"  \"*(n-i), end=\"\")\n",
    "    for j in range(1,i*2):\n",
    "        print(j , end=\" \")\n",
    "    print()"
   ]
  },
  {
   "cell_type": "markdown",
   "id": "15ac6060",
   "metadata": {},
   "source": [
    "EJERCICIO 3"
   ]
  },
  {
   "cell_type": "code",
   "execution_count": null,
   "id": "f200070f",
   "metadata": {},
   "outputs": [],
   "source": [
    "from random import randint\n",
    "#generar matriz\n",
    "matriz=[]\n",
    "for f in range(10):\n",
    "    lista = []\n",
    "    for c in range(15):\n",
    "        lista.append(randint(1,3))\n",
    "    matriz.append(lista)\n",
    "#mostrar matriz\n",
    "for f in range(10):\n",
    "    for c in range(15):\n",
    "        print(matriz[f][c],\" \",end=\" \")\n",
    "    print()\n",
    "    \n",
    "# LO QUE NOS PIDEN\n",
    "# ? Mayor y menor frecuencia\n",
    "frecuencia = []\n",
    "for val in range(1,4):\n",
    "    contador = 0\n",
    "    for f in range(10):\n",
    "        for c in range(15):\n",
    "            if matriz[f][c] == val:\n",
    "                contador += 1\n",
    "    frecuencia.append(contador)\n",
    "print(frecuencia)\n",
    "maximo = max(frecuencia)\n",
    "minimo = min(frecuencia)\n",
    "for i in range(3):\n",
    "    if frecuencia[i] == maximo:\n",
    "        print(f\"El valor maximo es: {i+1}\")\n",
    "for i in range(3):\n",
    "    if frecuencia[i] == minimo:\n",
    "        print(f\"El valor minimo es: {i+1}\")\n",
    "        \n",
    "#guarida de topo:\n",
    "for f in range(1,9):\n",
    "    for c in range(1,14):\n",
    "        if matriz[f][c-1] == 2 and matriz[f][c+1] == 2 and matriz[f+1][c] == 3 and matriz[f-1][c] == 1:\n",
    "            print (f\"Guarida de topo en: {f+1} y {c+1}\")"
   ]
  }
 ],
 "metadata": {
  "language_info": {
   "name": "python"
  }
 },
 "nbformat": 4,
 "nbformat_minor": 5
}
